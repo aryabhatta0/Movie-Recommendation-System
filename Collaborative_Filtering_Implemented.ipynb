{
 "cells": [
  {
   "cell_type": "markdown",
   "id": "5a574e29",
   "metadata": {},
   "source": [
    "### Collaborative Filtering-based Movie Recommendation Systems"
   ]
  },
  {
   "cell_type": "markdown",
   "id": "6b911639",
   "metadata": {},
   "source": [
    "With collaborative filtering, the system is based on past interactions between users and movies.\n",
    "\n",
    "To obtain recommendations for our users, we will **predict their ratings** for movies they haven’t watched yet. Movies are then indexed and suggested to users based on these predicted ratings."
   ]
  },
  {
   "cell_type": "code",
   "execution_count": 40,
   "id": "60ade697",
   "metadata": {},
   "outputs": [
    {
     "data": {
      "text/plain": [
       "(100004, 4)"
      ]
     },
     "execution_count": 40,
     "metadata": {},
     "output_type": "execute_result"
    }
   ],
   "source": [
    "import pandas as pd\n",
    "ratings = pd.read_csv('Datasets/ratings_small.csv')\n",
    "ratings.shape"
   ]
  },
  {
   "cell_type": "code",
   "execution_count": 41,
   "id": "ef9c3346",
   "metadata": {},
   "outputs": [
    {
     "data": {
      "text/html": [
       "<div>\n",
       "<style scoped>\n",
       "    .dataframe tbody tr th:only-of-type {\n",
       "        vertical-align: middle;\n",
       "    }\n",
       "\n",
       "    .dataframe tbody tr th {\n",
       "        vertical-align: top;\n",
       "    }\n",
       "\n",
       "    .dataframe thead th {\n",
       "        text-align: right;\n",
       "    }\n",
       "</style>\n",
       "<table border=\"1\" class=\"dataframe\">\n",
       "  <thead>\n",
       "    <tr style=\"text-align: right;\">\n",
       "      <th></th>\n",
       "      <th>userId</th>\n",
       "      <th>movieId</th>\n",
       "      <th>rating</th>\n",
       "      <th>timestamp</th>\n",
       "    </tr>\n",
       "  </thead>\n",
       "  <tbody>\n",
       "    <tr>\n",
       "      <th>0</th>\n",
       "      <td>1</td>\n",
       "      <td>31</td>\n",
       "      <td>2.5</td>\n",
       "      <td>1260759144</td>\n",
       "    </tr>\n",
       "    <tr>\n",
       "      <th>1</th>\n",
       "      <td>1</td>\n",
       "      <td>1029</td>\n",
       "      <td>3.0</td>\n",
       "      <td>1260759179</td>\n",
       "    </tr>\n",
       "    <tr>\n",
       "      <th>2</th>\n",
       "      <td>1</td>\n",
       "      <td>1061</td>\n",
       "      <td>3.0</td>\n",
       "      <td>1260759182</td>\n",
       "    </tr>\n",
       "    <tr>\n",
       "      <th>3</th>\n",
       "      <td>1</td>\n",
       "      <td>1129</td>\n",
       "      <td>2.0</td>\n",
       "      <td>1260759185</td>\n",
       "    </tr>\n",
       "    <tr>\n",
       "      <th>4</th>\n",
       "      <td>1</td>\n",
       "      <td>1172</td>\n",
       "      <td>4.0</td>\n",
       "      <td>1260759205</td>\n",
       "    </tr>\n",
       "  </tbody>\n",
       "</table>\n",
       "</div>"
      ],
      "text/plain": [
       "   userId  movieId  rating   timestamp\n",
       "0       1       31     2.5  1260759144\n",
       "1       1     1029     3.0  1260759179\n",
       "2       1     1061     3.0  1260759182\n",
       "3       1     1129     2.0  1260759185\n",
       "4       1     1172     4.0  1260759205"
      ]
     },
     "execution_count": 41,
     "metadata": {},
     "output_type": "execute_result"
    }
   ],
   "source": [
    "ratings.head()"
   ]
  },
  {
   "cell_type": "code",
   "execution_count": 42,
   "id": "87ad7681",
   "metadata": {},
   "outputs": [],
   "source": [
    "ratings.drop('timestamp', axis=1, inplace=True)"
   ]
  },
  {
   "cell_type": "code",
   "execution_count": 43,
   "id": "7e6f81de",
   "metadata": {},
   "outputs": [
    {
     "name": "stdout",
     "output_type": "stream",
     "text": [
      "671\n",
      "(100004, 3)\n"
     ]
    },
    {
     "data": {
      "text/html": [
       "<div>\n",
       "<style scoped>\n",
       "    .dataframe tbody tr th:only-of-type {\n",
       "        vertical-align: middle;\n",
       "    }\n",
       "\n",
       "    .dataframe tbody tr th {\n",
       "        vertical-align: top;\n",
       "    }\n",
       "\n",
       "    .dataframe thead th {\n",
       "        text-align: right;\n",
       "    }\n",
       "</style>\n",
       "<table border=\"1\" class=\"dataframe\">\n",
       "  <thead>\n",
       "    <tr style=\"text-align: right;\">\n",
       "      <th></th>\n",
       "      <th>userId</th>\n",
       "      <th>movieId</th>\n",
       "      <th>rating</th>\n",
       "    </tr>\n",
       "  </thead>\n",
       "  <tbody>\n",
       "    <tr>\n",
       "      <th>0</th>\n",
       "      <td>1</td>\n",
       "      <td>31</td>\n",
       "      <td>2.5</td>\n",
       "    </tr>\n",
       "    <tr>\n",
       "      <th>1</th>\n",
       "      <td>1</td>\n",
       "      <td>1029</td>\n",
       "      <td>3.0</td>\n",
       "    </tr>\n",
       "    <tr>\n",
       "      <th>2</th>\n",
       "      <td>1</td>\n",
       "      <td>1061</td>\n",
       "      <td>3.0</td>\n",
       "    </tr>\n",
       "    <tr>\n",
       "      <th>3</th>\n",
       "      <td>1</td>\n",
       "      <td>1129</td>\n",
       "      <td>2.0</td>\n",
       "    </tr>\n",
       "    <tr>\n",
       "      <th>4</th>\n",
       "      <td>1</td>\n",
       "      <td>1172</td>\n",
       "      <td>4.0</td>\n",
       "    </tr>\n",
       "  </tbody>\n",
       "</table>\n",
       "</div>"
      ],
      "text/plain": [
       "   userId  movieId  rating\n",
       "0       1       31     2.5\n",
       "1       1     1029     3.0\n",
       "2       1     1061     3.0\n",
       "3       1     1129     2.0\n",
       "4       1     1172     4.0"
      ]
     },
     "execution_count": 43,
     "metadata": {},
     "output_type": "execute_result"
    }
   ],
   "source": [
    "print(ratings['userId'].nunique())\n",
    "print(ratings.shape)\n",
    "ratings.head()"
   ]
  },
  {
   "cell_type": "code",
   "execution_count": 44,
   "id": "2539538f",
   "metadata": {},
   "outputs": [
    {
     "name": "stdout",
     "output_type": "stream",
     "text": [
      "(80003, 3)\n",
      "(20001, 3)\n"
     ]
    }
   ],
   "source": [
    "# Splitting into train and test\n",
    "from sklearn.model_selection import train_test_split\n",
    "train, test = train_test_split(ratings, test_size=0.2, random_state=42)\n",
    "\n",
    "print(train.shape)\n",
    "print(test.shape)"
   ]
  },
  {
   "cell_type": "markdown",
   "id": "c6f58e1d",
   "metadata": {},
   "source": [
    "# Matrix Factorization-based Algorithm"
   ]
  },
  {
   "cell_type": "markdown",
   "id": "5eae7763",
   "metadata": {},
   "source": [
    "Matrix factorization is a class of collaborative filtering algorithms used in recommender systems.\n",
    "\n",
    "It works by decomposing the `user-movie interaction matrix` (dataset) into the product of two lower-dimensional matrices: a `user matrix` and a `movie matrix` (each with some k features that capture underlying factors or influence user preferences).\n",
    "The decomposition is done in such a way that the product results in almost similar values to the user-movie interaction matrix.\n",
    "\n",
    "We then perform the product of 2 matrices to predict the empty cells of the user-movie interaction matrix."
   ]
  },
  {
   "cell_type": "code",
   "execution_count": 45,
   "id": "ef0938a6",
   "metadata": {},
   "outputs": [],
   "source": [
    "from surprise import SVD\n",
    "import numpy as np\n",
    "import surprise\n",
    "from surprise import Reader, Dataset"
   ]
  },
  {
   "cell_type": "code",
   "execution_count": 46,
   "id": "0047c560",
   "metadata": {},
   "outputs": [],
   "source": [
    "# train set\n",
    "\n",
    "# It is to specify how to read the dataframe.\n",
    "# for our dataframe, we don't have to specify anything extra..\n",
    "reader = Reader(rating_scale=(1,5))\n",
    "\n",
    "# create the traindata from the dataframe...\n",
    "train_data_mf = Dataset.load_from_df(train[['userId', 'movieId', 'rating']], reader)\n",
    "\n",
    "# build the trainset from traindata.., It is of dataset format from surprise library..\n",
    "trainset = train_data_mf.build_full_trainset() "
   ]
  },
  {
   "cell_type": "code",
   "execution_count": 47,
   "id": "1df8ab52",
   "metadata": {},
   "outputs": [
    {
     "data": {
      "text/plain": [
       "<surprise.trainset.Trainset at 0x225655b4970>"
      ]
     },
     "execution_count": 47,
     "metadata": {},
     "output_type": "execute_result"
    }
   ],
   "source": [
    "trainset"
   ]
  },
  {
   "cell_type": "code",
   "execution_count": 48,
   "id": "cb3e49c5",
   "metadata": {},
   "outputs": [],
   "source": [
    "#test set\n",
    "reader = Reader(rating_scale=(1,5))\n",
    "test_data_mf = Dataset.load_from_df(test[['userId', 'movieId', 'rating']], reader)\n",
    "testset = test_data_mf.build_full_trainset() "
   ]
  },
  {
   "cell_type": "code",
   "execution_count": 49,
   "id": "ef994e0c",
   "metadata": {},
   "outputs": [
    {
     "name": "stdout",
     "output_type": "stream",
     "text": [
      "Processing epoch 0\n",
      "Processing epoch 1\n",
      "Processing epoch 2\n",
      "Processing epoch 3\n",
      "Processing epoch 4\n",
      "Processing epoch 5\n",
      "Processing epoch 6\n",
      "Processing epoch 7\n",
      "Processing epoch 8\n",
      "Processing epoch 9\n",
      "Processing epoch 10\n",
      "Processing epoch 11\n",
      "Processing epoch 12\n",
      "Processing epoch 13\n",
      "Processing epoch 14\n",
      "Processing epoch 15\n",
      "Processing epoch 16\n",
      "Processing epoch 17\n",
      "Processing epoch 18\n",
      "Processing epoch 19\n"
     ]
    },
    {
     "data": {
      "text/plain": [
       "<surprise.prediction_algorithms.matrix_factorization.SVD at 0x225650d5f40>"
      ]
     },
     "execution_count": 49,
     "metadata": {},
     "output_type": "execute_result"
    }
   ],
   "source": [
    "svd = SVD(n_factors=100, biased=True, random_state=15, verbose=True)\n",
    "svd.fit(trainset)"
   ]
  },
  {
   "cell_type": "code",
   "execution_count": 50,
   "id": "77dc1e2a",
   "metadata": {},
   "outputs": [],
   "source": [
    "#getting predictions of trainset\n",
    "train_preds = svd.test(trainset.build_testset())\n",
    "\n",
    "train_pred_mf = np.array([pred.est for pred in train_preds])"
   ]
  },
  {
   "cell_type": "code",
   "execution_count": 51,
   "id": "a7e8dbad",
   "metadata": {},
   "outputs": [
    {
     "data": {
      "text/plain": [
       "(80003,)"
      ]
     },
     "execution_count": 51,
     "metadata": {},
     "output_type": "execute_result"
    }
   ],
   "source": [
    "train_pred_mf.shape"
   ]
  },
  {
   "cell_type": "code",
   "execution_count": 52,
   "id": "c15c1868",
   "metadata": {},
   "outputs": [
    {
     "data": {
      "text/plain": [
       "array([4.05703641, 3.8292154 , 4.29416284, ..., 3.73216477, 4.18028913,\n",
       "       2.99374156])"
      ]
     },
     "execution_count": 52,
     "metadata": {},
     "output_type": "execute_result"
    }
   ],
   "source": [
    "train_pred_mf"
   ]
  },
  {
   "cell_type": "code",
   "execution_count": 53,
   "id": "914cef95",
   "metadata": {},
   "outputs": [],
   "source": [
    "def get_error_metrics(y_true, y_pred):\n",
    "    rmse = np.sqrt(np.mean([ (y_true[i] - y_pred[i])**2 for i in range(len(y_pred)) ]))\n",
    "    mape = np.mean(np.abs( (y_true - y_pred)/y_true )) * 100\n",
    "    return rmse, mape"
   ]
  },
  {
   "cell_type": "code",
   "execution_count": 54,
   "id": "489ac49a",
   "metadata": {},
   "outputs": [
    {
     "name": "stdout",
     "output_type": "stream",
     "text": [
      "{'rmse': 1.245609623806668, 'mape': 42.06257415522802}\n"
     ]
    }
   ],
   "source": [
    "# error\n",
    "rmse_train, mape_train = get_error_metrics(train.rating.values, train_pred_mf)\n",
    "print( {'rmse': rmse_train,\n",
    "        'mape' : mape_train} )"
   ]
  },
  {
   "cell_type": "code",
   "execution_count": 55,
   "id": "7db6e85b",
   "metadata": {},
   "outputs": [],
   "source": [
    "#getting predictions of trainset\n",
    "test_preds = svd.test(testset.build_testset())\n",
    "test_pred_mf = np.array([pred.est for pred in test_preds])"
   ]
  },
  {
   "cell_type": "code",
   "execution_count": 56,
   "id": "6077f7cf",
   "metadata": {},
   "outputs": [
    {
     "name": "stdout",
     "output_type": "stream",
     "text": [
      "{'rmse': 1.2061597070667478, 'mape': 41.15563553771098}\n"
     ]
    }
   ],
   "source": [
    "# error\n",
    "rmse_test, mape_test = get_error_metrics(test.rating.values, test_pred_mf)\n",
    "print( {'rmse': rmse_test,\n",
    "        'mape' : mape_test} )"
   ]
  },
  {
   "cell_type": "markdown",
   "id": "c4f9375b",
   "metadata": {},
   "source": [
    "We will further be reducing this error in the final model."
   ]
  },
  {
   "cell_type": "markdown",
   "id": "4b2586ee",
   "metadata": {},
   "source": [
    "# Feature Engineering\n",
    "Creating some handcrafted features for the final model"
   ]
  },
  {
   "cell_type": "markdown",
   "id": "9228f06a",
   "metadata": {},
   "source": [
    "We'll be creating **3 sets of new features.**\n",
    "1. Global averages\n",
    "\n",
    "    - The average ratings of all movies given by all users\n",
    "    - The average ratings of a particular movie given by all users\n",
    "    - The average ratings of all movies given by a particular user\n",
    "\n",
    "\n",
    "2. Top 5 similar users\n",
    "3. Top 5 similar movies"
   ]
  },
  {
   "cell_type": "code",
   "execution_count": 57,
   "id": "b7daf812",
   "metadata": {},
   "outputs": [],
   "source": [
    "# Creating a sparse matrix\n",
    "# Matrices used in this type of problems are generally sparse as there’s a high chance users only rated a few movies.\n",
    "from scipy import sparse\n",
    "train_sparse_matrix = sparse.csr_matrix((train.rating.values, \n",
    "                                        (train.userId.values, train.movieId.values)))"
   ]
  },
  {
   "cell_type": "code",
   "execution_count": 58,
   "id": "81bc7442",
   "metadata": {},
   "outputs": [
    {
     "data": {
      "text/plain": [
       "<672x163950 sparse matrix of type '<class 'numpy.float64'>'\n",
       "\twith 80003 stored elements in Compressed Sparse Row format>"
      ]
     },
     "execution_count": 58,
     "metadata": {},
     "output_type": "execute_result"
    }
   ],
   "source": [
    "train_sparse_matrix"
   ]
  },
  {
   "cell_type": "code",
   "execution_count": 59,
   "id": "c346bdf4",
   "metadata": {},
   "outputs": [
    {
     "data": {
      "text/plain": [
       "{'global': 3.5417484344337087}"
      ]
     },
     "execution_count": 59,
     "metadata": {},
     "output_type": "execute_result"
    }
   ],
   "source": [
    "train_averages = dict()\n",
    "\n",
    "# Global avg of all ratings (all movies by all users)\n",
    "train_global_average = train_sparse_matrix.sum()/train_sparse_matrix.count_nonzero()\n",
    "train_averages['global'] = train_global_average\n",
    "train_averages"
   ]
  },
  {
   "cell_type": "code",
   "execution_count": 60,
   "id": "f3a54c43",
   "metadata": {},
   "outputs": [],
   "source": [
    "# get the user averages in dictionary (key: user_id/movie_id, value: avg rating)\n",
    "def get_average_ratings(sparse_matrix, of_users):\n",
    "    \n",
    "    # Determine the axis (user/axes) : 1 - User axes,0 - Movie axes\n",
    "    ax = 1 if of_users else 0 \n",
    "\n",
    "    # \".A1\" is for converting Column_Matrix to 1-D numpy array \n",
    "    sum_of_ratings = sparse_matrix.sum(axis=ax).A1\n",
    "    \n",
    "    # Boolean matrix of ratings ( whether a user rated that movie or not)\n",
    "    is_rated = sparse_matrix!=0\n",
    "    # no of ratings for each user or movie\n",
    "    no_of_ratings = is_rated.sum(axis=ax).A1\n",
    "    \n",
    "    # max_user and max_movie ids (Dimensions of sparse matrix)\n",
    "    num_users, num_movies = sparse_matrix.shape\n",
    "    # creae a dictonary of users and their average ratigns..\n",
    "    average_ratings = { \n",
    "        i : sum_of_ratings[i]/no_of_ratings[i] \n",
    "        for i in range(num_users if of_users else num_movies) \n",
    "        if no_of_ratings[i] !=0\n",
    "    }\n",
    "\n",
    "    return average_ratings"
   ]
  },
  {
   "cell_type": "code",
   "execution_count": 61,
   "id": "249f8b61",
   "metadata": {},
   "outputs": [
    {
     "name": "stdout",
     "output_type": "stream",
     "text": [
      "Average rating of user 10 : 3.6944444444444446\n"
     ]
    }
   ],
   "source": [
    "# Average ratings given by a user\n",
    "train_averages['user'] = get_average_ratings(train_sparse_matrix, of_users=True)\n",
    "print('Average rating of user 10 :',train_averages['user'][10])"
   ]
  },
  {
   "cell_type": "code",
   "execution_count": 62,
   "id": "9c659bc0",
   "metadata": {},
   "outputs": [
    {
     "name": "stdout",
     "output_type": "stream",
     "text": [
      "Average rating of movie 15 : 2.0\n"
     ]
    }
   ],
   "source": [
    "# Average ratings given for a movie\n",
    "train_averages['movie'] =  get_average_ratings(train_sparse_matrix, of_users=False)\n",
    "print('Average rating of movie 15 :',train_averages['movie'][15])"
   ]
  },
  {
   "cell_type": "code",
   "execution_count": 63,
   "id": "ef0bf692",
   "metadata": {},
   "outputs": [],
   "source": [
    "# get users, movies and ratings from our samples train sparse matrix\n",
    "train_users, train_movies, train_ratings = sparse.find(train_sparse_matrix)"
   ]
  },
  {
   "cell_type": "code",
   "execution_count": 64,
   "id": "a72c2df4",
   "metadata": {},
   "outputs": [
    {
     "data": {
      "text/plain": [
       "array([  7,   9,  13, ..., 287, 611, 547], dtype=int32)"
      ]
     },
     "execution_count": 64,
     "metadata": {},
     "output_type": "execute_result"
    }
   ],
   "source": [
    "train_users"
   ]
  },
  {
   "cell_type": "code",
   "execution_count": 65,
   "id": "59f19992",
   "metadata": {},
   "outputs": [
    {
     "data": {
      "text/plain": [
       "array([3., 4., 5., ..., 5., 5., 5.])"
      ]
     },
     "execution_count": 65,
     "metadata": {},
     "output_type": "execute_result"
    }
   ],
   "source": [
    "train_ratings"
   ]
  },
  {
   "cell_type": "markdown",
   "id": "e8485bf3",
   "metadata": {},
   "source": [
    "**Final dataframe:**\n",
    "\n",
    "New features:\n",
    "- GAvg: Average rating of all the ratings\n",
    "- Similar users rating of this movie: sur1, sur2, sur3, sur4, sur5 ( top 5 similar users who rated that movie )\n",
    "- Similar movies rated by this user: smr1, smr2, smr3, smr4, smr5 ( top 5 similar movies rated by user)\n",
    "- UAvg: User AVerage rating\n",
    "- MAvg: Average rating of this movie\n",
    "- rating: Rating of this movie by this user.\n",
    "- mf_svd: Prediction by MF model"
   ]
  },
  {
   "cell_type": "code",
   "execution_count": 78,
   "id": "83da723a",
   "metadata": {},
   "outputs": [],
   "source": [
    "from datetime import datetime\n",
    "from sklearn.metrics.pairwise import cosine_similarity\n",
    "\n",
    "def getFinalData(_users, _movies, _ratings, _sparse_matrix, _averages_dict):\n",
    "    # final_data = pd.DataFrame()\n",
    "    final_data = pd.DataFrame(columns=['user', 'movie', 'GAvg', 'sur1', 'sur2', 'sur3', 'sur4', 'sur5',\n",
    "                'smr1', 'smr2', 'smr3', 'smr4', 'smr5', 'UAvg', 'MAvg', 'rating'])\n",
    "\n",
    "    count = 0\n",
    "    start = datetime.now()\n",
    "    for (user, movie, rating)  in zip(_users, _movies, _ratings):\n",
    "        row = list()\n",
    "        # print(user, movie)\n",
    "        row.append(user)\n",
    "        row.append(movie)\n",
    "\n",
    "        # gloabal avrg rating\n",
    "        row.append(_averages_dict['global']) # first feature\n",
    "\n",
    "    #---------------------- Ratings of \"movie\" by similar users of \"user\" ----------------------------------###\n",
    "\n",
    "        # compute the similar Users of the \"user\"        \n",
    "        user_sim = cosine_similarity(_sparse_matrix[user], _sparse_matrix).ravel()\n",
    "\n",
    "        top_sim_users = user_sim.argsort()[::-1][1:]  \n",
    "            # Ignoring 'user' from its similar users\n",
    "            # [::-1] reverses the sorted array making it descending\n",
    "\n",
    "        # get the ratings of most similar users for this movie\n",
    "        top_ratings = _sparse_matrix[top_sim_users, movie].toarray().ravel()\n",
    "\n",
    "        top_sim_users_ratings = list(top_ratings[top_ratings != 0][:5])\n",
    "        # making the length \"5\", if not, by adding movie averages at last\n",
    "        top_sim_users_ratings.extend([_averages_dict['movie'][movie]]*(5 - len(top_sim_users_ratings)))\n",
    "    #     print(top_sim_users_ratings, end=\" \")    \n",
    "\n",
    "        # next 5 features are similar_users \"movie\" ratings\n",
    "        row.extend(top_sim_users_ratings)\n",
    "\n",
    "\n",
    "    #--------------------- Ratings by \"user\"  to similar movies of \"movie\" ------------------------------###\n",
    "\n",
    "        # compute the similar movies of the \"movie\"        \n",
    "        movie_sim = cosine_similarity(_sparse_matrix[:,movie].T, _sparse_matrix.T).ravel()\n",
    "\n",
    "        top_sim_movies = movie_sim.argsort()[::-1][1:] # Ignoring 'movie' from its similar movies\n",
    "\n",
    "        # get the ratings of most similar movie rated by this user..\n",
    "        top_ratings = _sparse_matrix[user, top_sim_movies].toarray().ravel()\n",
    "\n",
    "        top_sim_movies_ratings = list(top_ratings[top_ratings != 0][:5])\n",
    "        top_sim_movies_ratings.extend([_averages_dict['user'][user]]*(5-len(top_sim_movies_ratings))) # make length 5 if needed\n",
    "    #     print(top_sim_movies_ratings, end=\" : -- \")\n",
    "\n",
    "        # next 5 features are \"user\" ratings for similar_movies\n",
    "        row.extend(top_sim_movies_ratings)\n",
    "\n",
    "\n",
    "    #------------------- add further features to the row ------------------------------------#\n",
    "        # Avg_user rating\n",
    "        row.append(_averages_dict['user'][user])\n",
    "        # Avg_movie rating\n",
    "        row.append(_averages_dict['movie'][movie])\n",
    "\n",
    "        # finally, The actual Rating of this user-movie pair...\n",
    "        row.append(rating)\n",
    "\n",
    "    #     print(row)\n",
    "\n",
    "        count = count + 1\n",
    "    #     print(count)\n",
    "\n",
    "        #final_data = final_data.append([row])\n",
    "        final_data.loc[len(final_data)] = row\n",
    "\n",
    "\n",
    "        if (count)%10000 == 0:\n",
    "            print(\"Done for {} rows----- {}\".format(count, datetime.now() - start))\n",
    "            start = datetime.now()\n",
    "            \n",
    "    return final_data"
   ]
  },
  {
   "cell_type": "code",
   "execution_count": 67,
   "id": "e694fdf4",
   "metadata": {},
   "outputs": [],
   "source": [
    "# final_data.columns=['user', 'movie', 'GAvg', 'sur1', 'sur2', 'sur3', 'sur4', 'sur5',\n",
    "#             'smr1', 'smr2', 'smr3', 'smr4', 'smr5', 'UAvg', 'MAvg', 'rating']"
   ]
  },
  {
   "cell_type": "code",
   "execution_count": 68,
   "id": "9f245670",
   "metadata": {},
   "outputs": [
    {
     "name": "stdout",
     "output_type": "stream",
     "text": [
      "Done for 10000 rows----- 0:06:37.323159\n",
      "Done for 20000 rows----- 0:03:11.794999\n",
      "Done for 30000 rows----- 0:03:09.781131\n",
      "Done for 40000 rows----- 0:03:36.685106\n",
      "Done for 50000 rows----- 0:03:34.759069\n",
      "Done for 60000 rows----- 0:03:42.528459\n",
      "Done for 70000 rows----- 0:03:58.472888\n",
      "Done for 80000 rows----- 0:03:51.946963\n"
     ]
    },
    {
     "data": {
      "text/html": [
       "<div>\n",
       "<style scoped>\n",
       "    .dataframe tbody tr th:only-of-type {\n",
       "        vertical-align: middle;\n",
       "    }\n",
       "\n",
       "    .dataframe tbody tr th {\n",
       "        vertical-align: top;\n",
       "    }\n",
       "\n",
       "    .dataframe thead th {\n",
       "        text-align: right;\n",
       "    }\n",
       "</style>\n",
       "<table border=\"1\" class=\"dataframe\">\n",
       "  <thead>\n",
       "    <tr style=\"text-align: right;\">\n",
       "      <th></th>\n",
       "      <th>user</th>\n",
       "      <th>movie</th>\n",
       "      <th>GAvg</th>\n",
       "      <th>sur1</th>\n",
       "      <th>sur2</th>\n",
       "      <th>sur3</th>\n",
       "      <th>sur4</th>\n",
       "      <th>sur5</th>\n",
       "      <th>smr1</th>\n",
       "      <th>smr2</th>\n",
       "      <th>smr3</th>\n",
       "      <th>smr4</th>\n",
       "      <th>smr5</th>\n",
       "      <th>UAvg</th>\n",
       "      <th>MAvg</th>\n",
       "      <th>rating</th>\n",
       "    </tr>\n",
       "  </thead>\n",
       "  <tbody>\n",
       "    <tr>\n",
       "      <th>0</th>\n",
       "      <td>7.0</td>\n",
       "      <td>1.0</td>\n",
       "      <td>3.541748</td>\n",
       "      <td>4.0</td>\n",
       "      <td>3.5</td>\n",
       "      <td>5.0</td>\n",
       "      <td>4.0</td>\n",
       "      <td>5.0</td>\n",
       "      <td>5.0</td>\n",
       "      <td>3.0</td>\n",
       "      <td>4.0</td>\n",
       "      <td>3.0</td>\n",
       "      <td>5.0</td>\n",
       "      <td>3.478261</td>\n",
       "      <td>3.851485</td>\n",
       "      <td>3.0</td>\n",
       "    </tr>\n",
       "    <tr>\n",
       "      <th>1</th>\n",
       "      <td>9.0</td>\n",
       "      <td>1.0</td>\n",
       "      <td>3.541748</td>\n",
       "      <td>5.0</td>\n",
       "      <td>4.0</td>\n",
       "      <td>4.5</td>\n",
       "      <td>4.5</td>\n",
       "      <td>5.0</td>\n",
       "      <td>5.0</td>\n",
       "      <td>4.0</td>\n",
       "      <td>5.0</td>\n",
       "      <td>4.0</td>\n",
       "      <td>4.0</td>\n",
       "      <td>3.725000</td>\n",
       "      <td>3.851485</td>\n",
       "      <td>4.0</td>\n",
       "    </tr>\n",
       "    <tr>\n",
       "      <th>2</th>\n",
       "      <td>13.0</td>\n",
       "      <td>1.0</td>\n",
       "      <td>3.541748</td>\n",
       "      <td>4.5</td>\n",
       "      <td>5.0</td>\n",
       "      <td>4.5</td>\n",
       "      <td>4.0</td>\n",
       "      <td>5.0</td>\n",
       "      <td>3.0</td>\n",
       "      <td>3.5</td>\n",
       "      <td>3.0</td>\n",
       "      <td>5.0</td>\n",
       "      <td>4.0</td>\n",
       "      <td>3.732558</td>\n",
       "      <td>3.851485</td>\n",
       "      <td>5.0</td>\n",
       "    </tr>\n",
       "    <tr>\n",
       "      <th>3</th>\n",
       "      <td>15.0</td>\n",
       "      <td>1.0</td>\n",
       "      <td>3.541748</td>\n",
       "      <td>3.0</td>\n",
       "      <td>4.0</td>\n",
       "      <td>3.5</td>\n",
       "      <td>4.0</td>\n",
       "      <td>3.5</td>\n",
       "      <td>2.5</td>\n",
       "      <td>5.0</td>\n",
       "      <td>5.0</td>\n",
       "      <td>4.0</td>\n",
       "      <td>4.0</td>\n",
       "      <td>2.603257</td>\n",
       "      <td>3.851485</td>\n",
       "      <td>2.0</td>\n",
       "    </tr>\n",
       "    <tr>\n",
       "      <th>4</th>\n",
       "      <td>19.0</td>\n",
       "      <td>1.0</td>\n",
       "      <td>3.541748</td>\n",
       "      <td>5.0</td>\n",
       "      <td>4.0</td>\n",
       "      <td>4.0</td>\n",
       "      <td>5.0</td>\n",
       "      <td>4.0</td>\n",
       "      <td>4.0</td>\n",
       "      <td>3.0</td>\n",
       "      <td>5.0</td>\n",
       "      <td>4.0</td>\n",
       "      <td>5.0</td>\n",
       "      <td>3.538462</td>\n",
       "      <td>3.851485</td>\n",
       "      <td>3.0</td>\n",
       "    </tr>\n",
       "  </tbody>\n",
       "</table>\n",
       "</div>"
      ],
      "text/plain": [
       "   user  movie      GAvg  sur1  sur2  sur3  sur4  sur5  smr1  smr2  smr3  \\\n",
       "0   7.0    1.0  3.541748   4.0   3.5   5.0   4.0   5.0   5.0   3.0   4.0   \n",
       "1   9.0    1.0  3.541748   5.0   4.0   4.5   4.5   5.0   5.0   4.0   5.0   \n",
       "2  13.0    1.0  3.541748   4.5   5.0   4.5   4.0   5.0   3.0   3.5   3.0   \n",
       "3  15.0    1.0  3.541748   3.0   4.0   3.5   4.0   3.5   2.5   5.0   5.0   \n",
       "4  19.0    1.0  3.541748   5.0   4.0   4.0   5.0   4.0   4.0   3.0   5.0   \n",
       "\n",
       "   smr4  smr5      UAvg      MAvg  rating  \n",
       "0   3.0   5.0  3.478261  3.851485     3.0  \n",
       "1   4.0   4.0  3.725000  3.851485     4.0  \n",
       "2   5.0   4.0  3.732558  3.851485     5.0  \n",
       "3   4.0   4.0  2.603257  3.851485     2.0  \n",
       "4   4.0   5.0  3.538462  3.851485     3.0  "
      ]
     },
     "execution_count": 68,
     "metadata": {},
     "output_type": "execute_result"
    }
   ],
   "source": [
    "final_data = getFinalData(train_users, train_movies, train_ratings, train_sparse_matrix, train_averages)\n",
    "final_data.head()"
   ]
  },
  {
   "cell_type": "code",
   "execution_count": 69,
   "id": "1a1c1e41",
   "metadata": {},
   "outputs": [
    {
     "data": {
      "text/plain": [
       "(80003, 16)"
      ]
     },
     "execution_count": 69,
     "metadata": {},
     "output_type": "execute_result"
    }
   ],
   "source": [
    "final_data.shape"
   ]
  },
  {
   "cell_type": "code",
   "execution_count": 70,
   "id": "e2c8e469",
   "metadata": {},
   "outputs": [
    {
     "data": {
      "text/html": [
       "<div>\n",
       "<style scoped>\n",
       "    .dataframe tbody tr th:only-of-type {\n",
       "        vertical-align: middle;\n",
       "    }\n",
       "\n",
       "    .dataframe tbody tr th {\n",
       "        vertical-align: top;\n",
       "    }\n",
       "\n",
       "    .dataframe thead th {\n",
       "        text-align: right;\n",
       "    }\n",
       "</style>\n",
       "<table border=\"1\" class=\"dataframe\">\n",
       "  <thead>\n",
       "    <tr style=\"text-align: right;\">\n",
       "      <th></th>\n",
       "      <th>user</th>\n",
       "      <th>movie</th>\n",
       "      <th>GAvg</th>\n",
       "      <th>sur1</th>\n",
       "      <th>sur2</th>\n",
       "      <th>sur3</th>\n",
       "      <th>sur4</th>\n",
       "      <th>sur5</th>\n",
       "      <th>smr1</th>\n",
       "      <th>smr2</th>\n",
       "      <th>smr3</th>\n",
       "      <th>smr4</th>\n",
       "      <th>smr5</th>\n",
       "      <th>UAvg</th>\n",
       "      <th>MAvg</th>\n",
       "      <th>rating</th>\n",
       "      <th>mf_svd</th>\n",
       "    </tr>\n",
       "  </thead>\n",
       "  <tbody>\n",
       "    <tr>\n",
       "      <th>0</th>\n",
       "      <td>7.0</td>\n",
       "      <td>1.0</td>\n",
       "      <td>3.541748</td>\n",
       "      <td>4.0</td>\n",
       "      <td>3.5</td>\n",
       "      <td>5.0</td>\n",
       "      <td>4.0</td>\n",
       "      <td>5.0</td>\n",
       "      <td>5.0</td>\n",
       "      <td>3.0</td>\n",
       "      <td>4.0</td>\n",
       "      <td>3.0</td>\n",
       "      <td>5.0</td>\n",
       "      <td>3.478261</td>\n",
       "      <td>3.851485</td>\n",
       "      <td>3.0</td>\n",
       "      <td>4.057036</td>\n",
       "    </tr>\n",
       "    <tr>\n",
       "      <th>1</th>\n",
       "      <td>9.0</td>\n",
       "      <td>1.0</td>\n",
       "      <td>3.541748</td>\n",
       "      <td>5.0</td>\n",
       "      <td>4.0</td>\n",
       "      <td>4.5</td>\n",
       "      <td>4.5</td>\n",
       "      <td>5.0</td>\n",
       "      <td>5.0</td>\n",
       "      <td>4.0</td>\n",
       "      <td>5.0</td>\n",
       "      <td>4.0</td>\n",
       "      <td>4.0</td>\n",
       "      <td>3.725000</td>\n",
       "      <td>3.851485</td>\n",
       "      <td>4.0</td>\n",
       "      <td>3.829215</td>\n",
       "    </tr>\n",
       "    <tr>\n",
       "      <th>2</th>\n",
       "      <td>13.0</td>\n",
       "      <td>1.0</td>\n",
       "      <td>3.541748</td>\n",
       "      <td>4.5</td>\n",
       "      <td>5.0</td>\n",
       "      <td>4.5</td>\n",
       "      <td>4.0</td>\n",
       "      <td>5.0</td>\n",
       "      <td>3.0</td>\n",
       "      <td>3.5</td>\n",
       "      <td>3.0</td>\n",
       "      <td>5.0</td>\n",
       "      <td>4.0</td>\n",
       "      <td>3.732558</td>\n",
       "      <td>3.851485</td>\n",
       "      <td>5.0</td>\n",
       "      <td>4.294163</td>\n",
       "    </tr>\n",
       "    <tr>\n",
       "      <th>3</th>\n",
       "      <td>15.0</td>\n",
       "      <td>1.0</td>\n",
       "      <td>3.541748</td>\n",
       "      <td>3.0</td>\n",
       "      <td>4.0</td>\n",
       "      <td>3.5</td>\n",
       "      <td>4.0</td>\n",
       "      <td>3.5</td>\n",
       "      <td>2.5</td>\n",
       "      <td>5.0</td>\n",
       "      <td>5.0</td>\n",
       "      <td>4.0</td>\n",
       "      <td>4.0</td>\n",
       "      <td>2.603257</td>\n",
       "      <td>3.851485</td>\n",
       "      <td>2.0</td>\n",
       "      <td>4.399865</td>\n",
       "    </tr>\n",
       "    <tr>\n",
       "      <th>4</th>\n",
       "      <td>19.0</td>\n",
       "      <td>1.0</td>\n",
       "      <td>3.541748</td>\n",
       "      <td>5.0</td>\n",
       "      <td>4.0</td>\n",
       "      <td>4.0</td>\n",
       "      <td>5.0</td>\n",
       "      <td>4.0</td>\n",
       "      <td>4.0</td>\n",
       "      <td>3.0</td>\n",
       "      <td>5.0</td>\n",
       "      <td>4.0</td>\n",
       "      <td>5.0</td>\n",
       "      <td>3.538462</td>\n",
       "      <td>3.851485</td>\n",
       "      <td>3.0</td>\n",
       "      <td>4.120750</td>\n",
       "    </tr>\n",
       "  </tbody>\n",
       "</table>\n",
       "</div>"
      ],
      "text/plain": [
       "   user  movie      GAvg  sur1  sur2  sur3  sur4  sur5  smr1  smr2  smr3  \\\n",
       "0   7.0    1.0  3.541748   4.0   3.5   5.0   4.0   5.0   5.0   3.0   4.0   \n",
       "1   9.0    1.0  3.541748   5.0   4.0   4.5   4.5   5.0   5.0   4.0   5.0   \n",
       "2  13.0    1.0  3.541748   4.5   5.0   4.5   4.0   5.0   3.0   3.5   3.0   \n",
       "3  15.0    1.0  3.541748   3.0   4.0   3.5   4.0   3.5   2.5   5.0   5.0   \n",
       "4  19.0    1.0  3.541748   5.0   4.0   4.0   5.0   4.0   4.0   3.0   5.0   \n",
       "\n",
       "   smr4  smr5      UAvg      MAvg  rating    mf_svd  \n",
       "0   3.0   5.0  3.478261  3.851485     3.0  4.057036  \n",
       "1   4.0   4.0  3.725000  3.851485     4.0  3.829215  \n",
       "2   5.0   4.0  3.732558  3.851485     5.0  4.294163  \n",
       "3   4.0   4.0  2.603257  3.851485     2.0  4.399865  \n",
       "4   4.0   5.0  3.538462  3.851485     3.0  4.120750  "
      ]
     },
     "execution_count": 70,
     "metadata": {},
     "output_type": "execute_result"
    }
   ],
   "source": [
    "final_data['mf_svd']=train_pred_mf\n",
    "final_data.head()"
   ]
  },
  {
   "cell_type": "code",
   "execution_count": null,
   "id": "e38c2a39",
   "metadata": {},
   "outputs": [],
   "source": []
  },
  {
   "cell_type": "markdown",
   "id": "50a2a502",
   "metadata": {},
   "source": [
    "#### Preparing test data"
   ]
  },
  {
   "cell_type": "code",
   "execution_count": 71,
   "id": "577b4750",
   "metadata": {},
   "outputs": [],
   "source": [
    "# Creating a sparse matrix\n",
    "test_sparse_matrix = sparse.csr_matrix((test.rating.values, (test.userId.values,\n",
    "                                               test.movieId.values)))"
   ]
  },
  {
   "cell_type": "code",
   "execution_count": 72,
   "id": "409b022e",
   "metadata": {},
   "outputs": [
    {
     "data": {
      "text/plain": [
       "{'global': 3.5510474476276186}"
      ]
     },
     "execution_count": 72,
     "metadata": {},
     "output_type": "execute_result"
    }
   ],
   "source": [
    "test_averages = dict()\n",
    "\n",
    "# Global avg of all movies by all users\n",
    "test_global_average = test_sparse_matrix.sum()/test_sparse_matrix.count_nonzero()\n",
    "test_averages['global'] = test_global_average\n",
    "test_averages"
   ]
  },
  {
   "cell_type": "code",
   "execution_count": 73,
   "id": "33a6f363",
   "metadata": {},
   "outputs": [
    {
     "name": "stdout",
     "output_type": "stream",
     "text": [
      "Average rating of user 10 : 3.7\n",
      "Average rating of movie 15 : 2.875\n"
     ]
    }
   ],
   "source": [
    "# Average ratings given by a user\n",
    "test_averages['user'] = get_average_ratings(test_sparse_matrix, of_users=True)\n",
    "print('Average rating of user 10 :', test_averages['user'][10])\n",
    "\n",
    "# Average ratings given for a movie\n",
    "test_averages['movie'] =  get_average_ratings(test_sparse_matrix, of_users=False)\n",
    "print('Average rating of movie 15 :', test_averages['movie'][15])"
   ]
  },
  {
   "cell_type": "code",
   "execution_count": 79,
   "id": "d51dab33",
   "metadata": {},
   "outputs": [],
   "source": [
    "# get users, movies and ratings from test sparse matrix\n",
    "test_users, test_movies, test_ratings = sparse.find(test_sparse_matrix)"
   ]
  },
  {
   "cell_type": "code",
   "execution_count": 80,
   "id": "4a095aa3",
   "metadata": {},
   "outputs": [
    {
     "name": "stdout",
     "output_type": "stream",
     "text": [
      "Done for 10000 rows----- 0:02:35.688095\n",
      "Done for 20000 rows----- 0:02:35.690510\n"
     ]
    },
    {
     "data": {
      "text/html": [
       "<div>\n",
       "<style scoped>\n",
       "    .dataframe tbody tr th:only-of-type {\n",
       "        vertical-align: middle;\n",
       "    }\n",
       "\n",
       "    .dataframe tbody tr th {\n",
       "        vertical-align: top;\n",
       "    }\n",
       "\n",
       "    .dataframe thead th {\n",
       "        text-align: right;\n",
       "    }\n",
       "</style>\n",
       "<table border=\"1\" class=\"dataframe\">\n",
       "  <thead>\n",
       "    <tr style=\"text-align: right;\">\n",
       "      <th></th>\n",
       "      <th>user</th>\n",
       "      <th>movie</th>\n",
       "      <th>GAvg</th>\n",
       "      <th>sur1</th>\n",
       "      <th>sur2</th>\n",
       "      <th>sur3</th>\n",
       "      <th>sur4</th>\n",
       "      <th>sur5</th>\n",
       "      <th>smr1</th>\n",
       "      <th>smr2</th>\n",
       "      <th>smr3</th>\n",
       "      <th>smr4</th>\n",
       "      <th>smr5</th>\n",
       "      <th>UAvg</th>\n",
       "      <th>MAvg</th>\n",
       "      <th>rating</th>\n",
       "    </tr>\n",
       "  </thead>\n",
       "  <tbody>\n",
       "    <tr>\n",
       "      <th>0</th>\n",
       "      <td>43.0</td>\n",
       "      <td>1.0</td>\n",
       "      <td>3.551047</td>\n",
       "      <td>5.0</td>\n",
       "      <td>5.0</td>\n",
       "      <td>3.0</td>\n",
       "      <td>5.0</td>\n",
       "      <td>4.0</td>\n",
       "      <td>3.0</td>\n",
       "      <td>4.0</td>\n",
       "      <td>4.0</td>\n",
       "      <td>4.0</td>\n",
       "      <td>4.0</td>\n",
       "      <td>3.260870</td>\n",
       "      <td>3.966667</td>\n",
       "      <td>4.0</td>\n",
       "    </tr>\n",
       "    <tr>\n",
       "      <th>1</th>\n",
       "      <td>56.0</td>\n",
       "      <td>1.0</td>\n",
       "      <td>3.551047</td>\n",
       "      <td>5.0</td>\n",
       "      <td>5.0</td>\n",
       "      <td>3.0</td>\n",
       "      <td>5.0</td>\n",
       "      <td>5.0</td>\n",
       "      <td>4.0</td>\n",
       "      <td>2.0</td>\n",
       "      <td>2.0</td>\n",
       "      <td>4.0</td>\n",
       "      <td>4.0</td>\n",
       "      <td>3.592593</td>\n",
       "      <td>3.966667</td>\n",
       "      <td>4.0</td>\n",
       "    </tr>\n",
       "    <tr>\n",
       "      <th>2</th>\n",
       "      <td>69.0</td>\n",
       "      <td>1.0</td>\n",
       "      <td>3.551047</td>\n",
       "      <td>5.0</td>\n",
       "      <td>5.0</td>\n",
       "      <td>5.0</td>\n",
       "      <td>3.0</td>\n",
       "      <td>5.0</td>\n",
       "      <td>3.5</td>\n",
       "      <td>4.0</td>\n",
       "      <td>4.5</td>\n",
       "      <td>4.5</td>\n",
       "      <td>5.0</td>\n",
       "      <td>4.250000</td>\n",
       "      <td>3.966667</td>\n",
       "      <td>5.0</td>\n",
       "    </tr>\n",
       "    <tr>\n",
       "      <th>3</th>\n",
       "      <td>73.0</td>\n",
       "      <td>1.0</td>\n",
       "      <td>3.551047</td>\n",
       "      <td>5.0</td>\n",
       "      <td>4.0</td>\n",
       "      <td>5.0</td>\n",
       "      <td>4.0</td>\n",
       "      <td>5.0</td>\n",
       "      <td>4.0</td>\n",
       "      <td>3.5</td>\n",
       "      <td>3.5</td>\n",
       "      <td>3.0</td>\n",
       "      <td>3.5</td>\n",
       "      <td>3.343939</td>\n",
       "      <td>3.966667</td>\n",
       "      <td>5.0</td>\n",
       "    </tr>\n",
       "    <tr>\n",
       "      <th>4</th>\n",
       "      <td>94.0</td>\n",
       "      <td>1.0</td>\n",
       "      <td>3.551047</td>\n",
       "      <td>3.5</td>\n",
       "      <td>3.5</td>\n",
       "      <td>2.5</td>\n",
       "      <td>5.0</td>\n",
       "      <td>4.5</td>\n",
       "      <td>1.5</td>\n",
       "      <td>3.0</td>\n",
       "      <td>3.5</td>\n",
       "      <td>4.5</td>\n",
       "      <td>3.0</td>\n",
       "      <td>3.410256</td>\n",
       "      <td>3.966667</td>\n",
       "      <td>4.0</td>\n",
       "    </tr>\n",
       "  </tbody>\n",
       "</table>\n",
       "</div>"
      ],
      "text/plain": [
       "   user  movie      GAvg  sur1  sur2  sur3  sur4  sur5  smr1  smr2  smr3  \\\n",
       "0  43.0    1.0  3.551047   5.0   5.0   3.0   5.0   4.0   3.0   4.0   4.0   \n",
       "1  56.0    1.0  3.551047   5.0   5.0   3.0   5.0   5.0   4.0   2.0   2.0   \n",
       "2  69.0    1.0  3.551047   5.0   5.0   5.0   3.0   5.0   3.5   4.0   4.5   \n",
       "3  73.0    1.0  3.551047   5.0   4.0   5.0   4.0   5.0   4.0   3.5   3.5   \n",
       "4  94.0    1.0  3.551047   3.5   3.5   2.5   5.0   4.5   1.5   3.0   3.5   \n",
       "\n",
       "   smr4  smr5      UAvg      MAvg  rating  \n",
       "0   4.0   4.0  3.260870  3.966667     4.0  \n",
       "1   4.0   4.0  3.592593  3.966667     4.0  \n",
       "2   4.5   5.0  4.250000  3.966667     5.0  \n",
       "3   3.0   3.5  3.343939  3.966667     5.0  \n",
       "4   4.5   3.0  3.410256  3.966667     4.0  "
      ]
     },
     "execution_count": 80,
     "metadata": {},
     "output_type": "execute_result"
    }
   ],
   "source": [
    "final_test_data = getFinalData(test_users, test_movies, test_ratings, test_sparse_matrix, test_averages)\n",
    "final_test_data.head()"
   ]
  },
  {
   "cell_type": "code",
   "execution_count": 81,
   "id": "65592bbe",
   "metadata": {},
   "outputs": [
    {
     "data": {
      "text/plain": [
       "(20001,)"
      ]
     },
     "execution_count": 81,
     "metadata": {},
     "output_type": "execute_result"
    }
   ],
   "source": [
    "test_pred_mf.shape"
   ]
  },
  {
   "cell_type": "code",
   "execution_count": 82,
   "id": "bd40a3c8",
   "metadata": {},
   "outputs": [
    {
     "data": {
      "text/html": [
       "<div>\n",
       "<style scoped>\n",
       "    .dataframe tbody tr th:only-of-type {\n",
       "        vertical-align: middle;\n",
       "    }\n",
       "\n",
       "    .dataframe tbody tr th {\n",
       "        vertical-align: top;\n",
       "    }\n",
       "\n",
       "    .dataframe thead th {\n",
       "        text-align: right;\n",
       "    }\n",
       "</style>\n",
       "<table border=\"1\" class=\"dataframe\">\n",
       "  <thead>\n",
       "    <tr style=\"text-align: right;\">\n",
       "      <th></th>\n",
       "      <th>user</th>\n",
       "      <th>movie</th>\n",
       "      <th>GAvg</th>\n",
       "      <th>sur1</th>\n",
       "      <th>sur2</th>\n",
       "      <th>sur3</th>\n",
       "      <th>sur4</th>\n",
       "      <th>sur5</th>\n",
       "      <th>smr1</th>\n",
       "      <th>smr2</th>\n",
       "      <th>smr3</th>\n",
       "      <th>smr4</th>\n",
       "      <th>smr5</th>\n",
       "      <th>UAvg</th>\n",
       "      <th>MAvg</th>\n",
       "      <th>rating</th>\n",
       "      <th>mf_svd</th>\n",
       "    </tr>\n",
       "  </thead>\n",
       "  <tbody>\n",
       "    <tr>\n",
       "      <th>0</th>\n",
       "      <td>43.0</td>\n",
       "      <td>1.0</td>\n",
       "      <td>3.551047</td>\n",
       "      <td>5.0</td>\n",
       "      <td>5.0</td>\n",
       "      <td>3.0</td>\n",
       "      <td>5.0</td>\n",
       "      <td>4.0</td>\n",
       "      <td>3.0</td>\n",
       "      <td>4.0</td>\n",
       "      <td>4.0</td>\n",
       "      <td>4.0</td>\n",
       "      <td>4.0</td>\n",
       "      <td>3.260870</td>\n",
       "      <td>3.966667</td>\n",
       "      <td>4.0</td>\n",
       "      <td>3.981476</td>\n",
       "    </tr>\n",
       "    <tr>\n",
       "      <th>1</th>\n",
       "      <td>56.0</td>\n",
       "      <td>1.0</td>\n",
       "      <td>3.551047</td>\n",
       "      <td>5.0</td>\n",
       "      <td>5.0</td>\n",
       "      <td>3.0</td>\n",
       "      <td>5.0</td>\n",
       "      <td>5.0</td>\n",
       "      <td>4.0</td>\n",
       "      <td>2.0</td>\n",
       "      <td>2.0</td>\n",
       "      <td>4.0</td>\n",
       "      <td>4.0</td>\n",
       "      <td>3.592593</td>\n",
       "      <td>3.966667</td>\n",
       "      <td>4.0</td>\n",
       "      <td>3.640555</td>\n",
       "    </tr>\n",
       "    <tr>\n",
       "      <th>2</th>\n",
       "      <td>69.0</td>\n",
       "      <td>1.0</td>\n",
       "      <td>3.551047</td>\n",
       "      <td>5.0</td>\n",
       "      <td>5.0</td>\n",
       "      <td>5.0</td>\n",
       "      <td>3.0</td>\n",
       "      <td>5.0</td>\n",
       "      <td>3.5</td>\n",
       "      <td>4.0</td>\n",
       "      <td>4.5</td>\n",
       "      <td>4.5</td>\n",
       "      <td>5.0</td>\n",
       "      <td>4.250000</td>\n",
       "      <td>3.966667</td>\n",
       "      <td>5.0</td>\n",
       "      <td>3.932812</td>\n",
       "    </tr>\n",
       "    <tr>\n",
       "      <th>3</th>\n",
       "      <td>73.0</td>\n",
       "      <td>1.0</td>\n",
       "      <td>3.551047</td>\n",
       "      <td>5.0</td>\n",
       "      <td>4.0</td>\n",
       "      <td>5.0</td>\n",
       "      <td>4.0</td>\n",
       "      <td>5.0</td>\n",
       "      <td>4.0</td>\n",
       "      <td>3.5</td>\n",
       "      <td>3.5</td>\n",
       "      <td>3.0</td>\n",
       "      <td>3.5</td>\n",
       "      <td>3.343939</td>\n",
       "      <td>3.966667</td>\n",
       "      <td>5.0</td>\n",
       "      <td>3.908617</td>\n",
       "    </tr>\n",
       "    <tr>\n",
       "      <th>4</th>\n",
       "      <td>94.0</td>\n",
       "      <td>1.0</td>\n",
       "      <td>3.551047</td>\n",
       "      <td>3.5</td>\n",
       "      <td>3.5</td>\n",
       "      <td>2.5</td>\n",
       "      <td>5.0</td>\n",
       "      <td>4.5</td>\n",
       "      <td>1.5</td>\n",
       "      <td>3.0</td>\n",
       "      <td>3.5</td>\n",
       "      <td>4.5</td>\n",
       "      <td>3.0</td>\n",
       "      <td>3.410256</td>\n",
       "      <td>3.966667</td>\n",
       "      <td>4.0</td>\n",
       "      <td>3.031592</td>\n",
       "    </tr>\n",
       "  </tbody>\n",
       "</table>\n",
       "</div>"
      ],
      "text/plain": [
       "   user  movie      GAvg  sur1  sur2  sur3  sur4  sur5  smr1  smr2  smr3  \\\n",
       "0  43.0    1.0  3.551047   5.0   5.0   3.0   5.0   4.0   3.0   4.0   4.0   \n",
       "1  56.0    1.0  3.551047   5.0   5.0   3.0   5.0   5.0   4.0   2.0   2.0   \n",
       "2  69.0    1.0  3.551047   5.0   5.0   5.0   3.0   5.0   3.5   4.0   4.5   \n",
       "3  73.0    1.0  3.551047   5.0   4.0   5.0   4.0   5.0   4.0   3.5   3.5   \n",
       "4  94.0    1.0  3.551047   3.5   3.5   2.5   5.0   4.5   1.5   3.0   3.5   \n",
       "\n",
       "   smr4  smr5      UAvg      MAvg  rating    mf_svd  \n",
       "0   4.0   4.0  3.260870  3.966667     4.0  3.981476  \n",
       "1   4.0   4.0  3.592593  3.966667     4.0  3.640555  \n",
       "2   4.5   5.0  4.250000  3.966667     5.0  3.932812  \n",
       "3   3.0   3.5  3.343939  3.966667     5.0  3.908617  \n",
       "4   4.5   3.0  3.410256  3.966667     4.0  3.031592  "
      ]
     },
     "execution_count": 82,
     "metadata": {},
     "output_type": "execute_result"
    }
   ],
   "source": [
    "final_test_data['mf_svd']=test_pred_mf\n",
    "final_test_data.head()"
   ]
  },
  {
   "cell_type": "markdown",
   "id": "9208cf8b",
   "metadata": {},
   "source": [
    "# XGBoost"
   ]
  },
  {
   "cell_type": "code",
   "execution_count": 83,
   "id": "56af8338",
   "metadata": {},
   "outputs": [],
   "source": [
    "# prepare train data\n",
    "# droping user/movie ids\n",
    "x_train = final_data.drop(['user', 'movie', 'rating'], axis=1)\n",
    "y_train = final_data['rating']"
   ]
  },
  {
   "cell_type": "markdown",
   "id": "8a1273c6",
   "metadata": {},
   "source": [
    "so ratings are predicted from\n",
    "- ratings of similar users for same movie\n",
    "- ratings of similar movies"
   ]
  },
  {
   "cell_type": "code",
   "execution_count": 84,
   "id": "daddc0c9",
   "metadata": {},
   "outputs": [],
   "source": [
    "# Prepare Test data\n",
    "x_test = final_test_data.drop(['user', 'movie', 'rating'], axis=1)\n",
    "y_test = final_test_data['rating']"
   ]
  },
  {
   "cell_type": "code",
   "execution_count": 91,
   "id": "06c3a06b",
   "metadata": {},
   "outputs": [],
   "source": [
    "# initialize XGBoost model\n",
    "import xgboost as xgb\n",
    "xgb_model = xgb.XGBRegressor(n_jobs=13, random_state=15, n_estimators=100)"
   ]
  },
  {
   "cell_type": "code",
   "execution_count": 92,
   "id": "1155f25b",
   "metadata": {},
   "outputs": [
    {
     "name": "stdout",
     "output_type": "stream",
     "text": [
      "Training the model..\n",
      "Done. Time taken=0:00:09.332620\n",
      "\n"
     ]
    }
   ],
   "source": [
    "print('Training the model..')\n",
    "start = datetime.now()\n",
    "xgb_model.set_params(eval_metric='rmse')\n",
    "xgb_model.fit(x_train, y_train)\n",
    "print('Done. Time taken={}\\n'.format(datetime.now()-start))"
   ]
  },
  {
   "cell_type": "code",
   "execution_count": 93,
   "id": "602fbc35",
   "metadata": {},
   "outputs": [
    {
     "data": {
      "text/plain": [
       "{'rmse': 0.708574116876655,\n",
       " 'mape': 21.42636439286759,\n",
       " 'predictions': array([3.8829207, 4.182848 , 3.7492647, ..., 4.9218345, 5.090525 ,\n",
       "        4.913607 ], dtype=float32)}"
      ]
     },
     "execution_count": 93,
     "metadata": {},
     "output_type": "execute_result"
    }
   ],
   "source": [
    "# Prediction\n",
    "y_train_pred = xgb_model.predict(x_train)\n",
    "\n",
    "# get the rmse and mape of train data..\n",
    "rmse_train, mape_train = get_error_metrics(y_train.values, y_train_pred)\n",
    "    \n",
    "# store the results in train_results dictionary..\n",
    "train_results = {'rmse': rmse_train, \n",
    "                 'mape' : mape_train, \n",
    "                 'predictions' : y_train_pred}\n",
    "train_results"
   ]
  },
  {
   "cell_type": "code",
   "execution_count": 94,
   "id": "e11f08e2",
   "metadata": {},
   "outputs": [
    {
     "data": {
      "text/plain": [
       "{'rmse': 0.7700471894305032,\n",
       " 'mape': 22.610169216035032,\n",
       " 'predictions': array([3.6912205, 3.5940406, 4.1798253, ..., 4.993876 , 4.161826 ,\n",
       "        2.8621824], dtype=float32)}"
      ]
     },
     "execution_count": 94,
     "metadata": {},
     "output_type": "execute_result"
    }
   ],
   "source": [
    "# Test predicton\n",
    "y_test_pred = xgb_model.predict(x_test) \n",
    "rmse_test, mape_test = get_error_metrics(y_true=y_test.values, y_pred=y_test_pred)\n",
    "\n",
    "test_results = {'rmse': rmse_test, \n",
    "                'mape' : mape_test, \n",
    "                'predictions':y_test_pred}\n",
    "test_results"
   ]
  },
  {
   "cell_type": "code",
   "execution_count": null,
   "id": "d0d02719",
   "metadata": {},
   "outputs": [],
   "source": [
    "# test results\n",
    "# {'rmse': 0.7700471894305032,\n",
    "#  'mape': 22.610169216035032,}"
   ]
  }
 ],
 "metadata": {
  "kernelspec": {
   "display_name": "Python 3 (ipykernel)",
   "language": "python",
   "name": "python3"
  },
  "language_info": {
   "codemirror_mode": {
    "name": "ipython",
    "version": 3
   },
   "file_extension": ".py",
   "mimetype": "text/x-python",
   "name": "python",
   "nbconvert_exporter": "python",
   "pygments_lexer": "ipython3",
   "version": "3.9.12"
  }
 },
 "nbformat": 4,
 "nbformat_minor": 5
}
